{
  "nbformat": 4,
  "nbformat_minor": 0,
  "metadata": {
    "colab": {
      "name": "220340325014",
      "provenance": []
    },
    "kernelspec": {
      "name": "python3",
      "display_name": "Python 3"
    },
    "language_info": {
      "name": "python"
    }
  },
  "cells": [
    {
      "cell_type": "markdown",
      "source": [
        " Q.1) Convert given hrs & mins in second "
      ],
      "metadata": {
        "id": "J1YMog6itAUX"
      }
    },
    {
      "cell_type": "code",
      "source": [
        "hour=int(input('Enter hours:'))\n",
        "min=int(input('Enter minutes:'))\n",
        "second=hour*60*60 + min*60\n",
        "print('the given time is',hour,'hours',min,'minutes and is equal to:',second)"
      ],
      "metadata": {
        "colab": {
          "base_uri": "https://localhost:8080/"
        },
        "id": "CjUILamMspcL",
        "outputId": "586a5318-1594-4331-bbcd-34f879c08d37"
      },
      "execution_count": 6,
      "outputs": [
        {
          "output_type": "stream",
          "name": "stdout",
          "text": [
            "Enter hours:3\n",
            "Enter minutes:15\n",
            "the given time is 3 hours 15 minutes and is equal to: 11700\n"
          ]
        }
      ]
    },
    {
      "cell_type": "markdown",
      "source": [
        "Q.2) Write code to find the average of ‘n’\n",
        "numbers entered by the user to function avg ( ).\n",
        "Ex: avg (10, 20, 30, 40) => average is: 70\n",
        "avg (5, 10, 15) => average is: 10"
      ],
      "metadata": {
        "id": "MiK--cThpDFf"
      }
    },
    {
      "cell_type": "code",
      "source": [
        "a=[]\n",
        "count=0\n",
        "while True:\n",
        "  print('Enter numbers :')\n",
        "  n=input()\n",
        "  if n=='':\n",
        "    break\n",
        "  a.append(int(n))\n",
        "  count+=1\n",
        "print('average is',sum(a)/count)\n",
        "\n"
      ],
      "metadata": {
        "colab": {
          "base_uri": "https://localhost:8080/"
        },
        "id": "JwOWuNh9pJWM",
        "outputId": "69c2e997-d8f3-4133-f4e9-ef00858cfc7a"
      },
      "execution_count": 1,
      "outputs": [
        {
          "output_type": "stream",
          "name": "stdout",
          "text": [
            "Enter numbers :\n",
            "2\n",
            "Enter numbers :\n",
            "1\n",
            "Enter numbers :\n",
            "4\n",
            "Enter numbers :\n",
            "3\n",
            "Enter numbers :\n",
            "2\n",
            "Enter numbers :\n",
            "\n",
            "average is 2.4\n"
          ]
        }
      ]
    },
    {
      "cell_type": "markdown",
      "source": [
        "Q.3) pattern"
      ],
      "metadata": {
        "id": "TYM2pDer49B_"
      }
    },
    {
      "cell_type": "code",
      "source": [
        "for i in range (1,6):\n",
        "  for j in range (1,i+1):\n",
        "    print(j%2,end=' ')\n",
        "  print()"
      ],
      "metadata": {
        "colab": {
          "base_uri": "https://localhost:8080/"
        },
        "id": "r8oMmIAty2Ij",
        "outputId": "ff72fcb7-33d2-4446-ee3f-46b356238cc0"
      },
      "execution_count": 17,
      "outputs": [
        {
          "output_type": "stream",
          "name": "stdout",
          "text": [
            "1 \n",
            "1 0 \n",
            "1 0 1 \n",
            "1 0 1 0 \n",
            "1 0 1 0 1 \n"
          ]
        }
      ]
    },
    {
      "cell_type": "markdown",
      "source": [
        "Q.5) create class Math "
      ],
      "metadata": {
        "id": "wHeP-z3-qRZX"
      }
    },
    {
      "cell_type": "code",
      "source": [
        "class Math :\n",
        "  def __init__(self):\n",
        "    self.a=int(input('Enter first number:'))\n",
        "    self.b=int(input('Enter second number:'))\n",
        "  def add(self):\n",
        "    print('addition',self.a,'and',self.b,'is',self.a+self.b)\n",
        "  def sub(self):\n",
        "    print('subtraction',self.a,'and',self.b,'is',self.a-self.b)\n",
        "  def mul(self):\n",
        "    print('multiplication',self.a,'and',self.b,'is',self.a*self.b)\n",
        "  def div(self):\n",
        "    print('division',self.a,'and',self.b,'is',self.a/self.b)"
      ],
      "metadata": {
        "id": "VywEdzIOqKiT"
      },
      "execution_count": 22,
      "outputs": []
    },
    {
      "cell_type": "code",
      "source": [
        "v=Math()\n",
        "v.add()\n",
        "v.sub()\n",
        "v.mul()\n",
        "v.div()"
      ],
      "metadata": {
        "colab": {
          "base_uri": "https://localhost:8080/"
        },
        "id": "cM1PnoDBsYf-",
        "outputId": "75b9f63f-fc4f-491c-d047-b5d7bbdd196a"
      },
      "execution_count": 23,
      "outputs": [
        {
          "output_type": "stream",
          "name": "stdout",
          "text": [
            "Enter first number:8\n",
            "Enter second number:4\n",
            "addition 8 and 4 is 12\n",
            "subtraction 8 and 4 is 4\n",
            "multiplication 8 and 4 is 32\n",
            "division 8 and 4 is 2.0\n"
          ]
        }
      ]
    },
    {
      "cell_type": "markdown",
      "source": [
        "Q.7) Convert Paise in Rupees &\n",
        "Paises\n",
        "Ex: 350 is 3 Rupees 50 Paise\n",
        "3.50 print Rupees: 3\n",
        "Paise: 50"
      ],
      "metadata": {
        "id": "8bQ-5ill5Mz9"
      }
    },
    {
      "cell_type": "code",
      "source": [
        "a=int(input('Enter total paise:'))\n",
        "p=a%100\n",
        "r=a//100\n",
        "print(r,'rupees',p,'paise')"
      ],
      "metadata": {
        "colab": {
          "base_uri": "https://localhost:8080/"
        },
        "id": "JkCqXytDzz4H",
        "outputId": "329fbd57-411c-4e4f-857d-09388e25d16f"
      },
      "execution_count": 20,
      "outputs": [
        {
          "output_type": "stream",
          "name": "stdout",
          "text": [
            "Enter total paise:350\n",
            "3 rupees 50 paise\n"
          ]
        }
      ]
    },
    {
      "cell_type": "markdown",
      "source": [
        "Q.8) pattern"
      ],
      "metadata": {
        "id": "O50vLRBH5mfc"
      }
    },
    {
      "cell_type": "code",
      "source": [
        "for i in range(1,8,2):\n",
        "  for j in range(1,i+1):\n",
        "    print(i,end=' ')\n",
        "  print()"
      ],
      "metadata": {
        "colab": {
          "base_uri": "https://localhost:8080/"
        },
        "id": "7HQrMgGnxfne",
        "outputId": "a8fb406f-2972-4607-9fcb-55a20013da7e"
      },
      "execution_count": 16,
      "outputs": [
        {
          "output_type": "stream",
          "name": "stdout",
          "text": [
            "1 \n",
            "3 3 3 \n",
            "5 5 5 5 5 \n",
            "7 7 7 7 7 7 7 \n"
          ]
        }
      ]
    },
    {
      "cell_type": "markdown",
      "source": [
        ".9) Accept String & print only alternate\n",
        "characters on a string.\n",
        "Ex: this i s a _ test\n"
      ],
      "metadata": {
        "id": "lrhz_rrMuSl8"
      }
    },
    {
      "cell_type": "code",
      "source": [
        "s=input('Enter a string:')\n",
        "for i in range(len(s)):\n",
        "  if (i % 2 != 0):\n",
        "    print(s[i],end='')"
      ],
      "metadata": {
        "colab": {
          "base_uri": "https://localhost:8080/"
        },
        "id": "Stv7h47Ptz25",
        "outputId": "2375b743-148e-464d-f997-12a4ea0ca652"
      },
      "execution_count": 7,
      "outputs": [
        {
          "output_type": "stream",
          "name": "stdout",
          "text": [
            "Enter a string:this is a test\n",
            "hsi  et"
          ]
        }
      ]
    },
    {
      "cell_type": "markdown",
      "source": [
        "Q.10) Create menu driven code for\n",
        "1) Accept 2 numbers\n",
        "2) Add\n",
        "3) Sub\n",
        "4) Mul\n",
        "5) Div\n"
      ],
      "metadata": {
        "id": "3mZM00wovL-D"
      }
    },
    {
      "cell_type": "code",
      "source": [
        "class Math :\n",
        "  def set(self,a,b):\n",
        "    self.a=a\n",
        "    self.b=b\n",
        "  def add(self):\n",
        "    print('addition',self.a,'and',self.b,'is',self.a+self.b)\n",
        "  def sub(self):\n",
        "    print('subtraction',self.a,'and',self.b,'is',self.a-self.b)\n",
        "  def mul(self):\n",
        "    print('multiplication',self.a,'and',self.b,'is',self.a*self.b)\n",
        "  def div(self):\n",
        "    print('division',self.a,'and',self.b,'is',self.a/self.b)\n",
        "print('Enter 2 numbers:')\n",
        "z=int(input())\n",
        "x=int(input())\n",
        "q=Math()\n",
        "q.set(z,x)\n",
        "while True:\n",
        "  s=int(input('\\n select operation: \\n 1.addition \\n 2.subtraction \\n 3.multiplication \\n 4.division \\n 0. exit \\n'))\n",
        "  if s==1:\n",
        "    q.add()\n",
        "    continue\n",
        "  elif s==2:\n",
        "    q.sub()\n",
        "    continue\n",
        "  elif s==3:\n",
        "    q.mul()\n",
        "    continue\n",
        "  elif s==4:\n",
        "    q.div()\n",
        "    continue\n",
        "  elif s==0:\n",
        "    break\n",
        "  else:\n",
        "    print('wrong input please try again')\n"
      ],
      "metadata": {
        "colab": {
          "base_uri": "https://localhost:8080/"
        },
        "id": "hr-0DAu3vRma",
        "outputId": "04414692-b482-4e03-9ad6-2a1c64c57708"
      },
      "execution_count": 12,
      "outputs": [
        {
          "name": "stdout",
          "output_type": "stream",
          "text": [
            "Enter 2 numbers:\n",
            "8\n",
            "4\n",
            "\n",
            " select operation: \n",
            " 1.addition \n",
            " 2.subtraction \n",
            " 3.multiplication \n",
            " 4.division \n",
            " 0. exit \n",
            "2\n",
            "subtraction 8 and 4 is 4\n",
            "\n",
            " select operation: \n",
            " 1.addition \n",
            " 2.subtraction \n",
            " 3.multiplication \n",
            " 4.division \n",
            " 0. exit \n",
            "0\n"
          ]
        }
      ]
    },
    {
      "cell_type": "code",
      "source": [
        ""
      ],
      "metadata": {
        "id": "xIDtA9h60yU7"
      },
      "execution_count": null,
      "outputs": []
    }
  ]
}